{
 "cells": [
  {
   "cell_type": "code",
   "execution_count": 1,
   "metadata": {},
   "outputs": [],
   "source": [
    "import matplotlib\n",
    "import matplotlib.pyplot as plt\n",
    "from mpl_toolkits.mplot3d import Axes3D\n",
    "import numpy as np\n",
    "from matplotlib.colors import LightSource\n",
    "%matplotlib notebook"
   ]
  },
  {
   "cell_type": "code",
   "execution_count": 2,
   "metadata": {},
   "outputs": [],
   "source": [
    "plt.rcParams[\"font.size\"] = 14"
   ]
  },
  {
   "cell_type": "markdown",
   "metadata": {},
   "source": [
    "## First draw weyl chamber\n",
    "Ref: \"Geometric theory of nonlocal two-qubit operations\" Jun Zhang et al."
   ]
  },
  {
   "cell_type": "code",
   "execution_count": 3,
   "metadata": {},
   "outputs": [],
   "source": [
    "O = [0,0,0]\n",
    "A1 = [np.pi/2,0,0]\n",
    "A2 = [np.pi/4,np.pi/4,0]\n",
    "A3 = [np.pi/4, np.pi/4, np.pi/4]\n",
    "L = [np.pi/4,0,0]\n",
    "# the above is the paper's values\n",
    "# we shift the region where x > pi/4 by shifting it by pi/2 (which is a trivial local equivalence) for convinience \n",
    "# then we have to define three more points\n",
    "# A1 goes to O\n",
    "# but L goes to [-np.pi/4,0,0] which we name L_ (locally equivalent to L)\n",
    "# also A2 goes to [-np.pi/4,np.pi/4,0] which we name A2_ (locally equivalent to A2)\n",
    "# also A3 goes to [-np.pi/4,np.pi/4,np.pi/4] which we name A3_ (locally equivalent to A3)\n",
    "L_ = [-np.pi/4,0,0]\n",
    "A2_ = [-np.pi/4,np.pi/4,0]\n",
    "A3_ = [-np.pi/4, np.pi/4, np.pi/4]"
   ]
  },
  {
   "cell_type": "code",
   "execution_count": 4,
   "metadata": {},
   "outputs": [
    {
     "data": {
      "image/png": "[encoded data removed]",
      "text/plain": [
       "<Figure size 432x288 with 1 Axes>"
      ]
     },
     "metadata": {},
     "output_type": "display_data"
    }
   ],
   "source": [
    "\n",
    "fig = plt.figure()\n",
    "ax = fig.gca(projection='3d')\n",
    "ax.w_xaxis.set_pane_color((0., 0., 0., 0.))\n",
    "ax.w_yaxis.set_pane_color((0., 0., 0., 0.))\n",
    "ax.w_zaxis.set_pane_color((0., 0., 0., 0.))\n",
    "ax.w_xaxis.line.set_color(\"grey\")\n",
    "ax.w_yaxis.line.set_color(\"grey\")\n",
    "ax.w_zaxis.line.set_color(\"grey\")\n",
    "ax.set_xticks([]) \n",
    "ax.set_yticks([]) \n",
    "ax.set_zticks([])\n",
    "plt.axis('off')\n",
    "ax.set_xlim(np.pi/4+0.1,-np.pi/4-0.1)\n",
    "ax.set_ylim(np.pi/4+0.1,-np.pi/4-0.1)\n",
    "ax.set_zlim(0,np.pi/2+0.2)\n",
    "ax.view_init(elev=46., azim=-118)\n",
    "\n",
    "# draw chamber\n",
    "ax.plot(*[[O[i], L[i]] for i in range(3)], color=\"black\") #OL\n",
    "ax.plot(*[[O[i], A2[i]] for i in range(3)], color=\"black\") #OA2\n",
    "ax.plot(*[[O[i], A3[i]] for i in range(3)], color=\"black\") #OA3\n",
    "ax.plot(*[[L[i], A2[i]] for i in range(3)], color=\"black\") #LA2\n",
    "ax.plot(*[[L[i], A3[i]] for i in range(3)], color=\"black\") #LA3\n",
    "ax.plot(*[[A2[i], A3[i]] for i in range(3)], color=\"black\") #A2A3\n",
    "ax.plot(*[[O[i], L_[i]] for i in range(3)], color=\"black\") \n",
    "ax.plot(*[[O[i], A2_[i]] for i in range(3)], color=\"black\")\n",
    "ax.plot(*[[O[i], A3_[i]] for i in range(3)], color=\"black\")\n",
    "ax.plot(*[[L_[i], A2_[i]] for i in range(3)], color=\"lightgray\", zorder=1) #LA2\n",
    "ax.plot(*[[L_[i], A3_[i]] for i in range(3)], color=\"black\") #LA3\n",
    "ax.plot(*[[A2_[i], A3_[i]] for i in range(3)], color=\"black\") #A2A3\n",
    "ax.plot([0,0],[0,0],[0,np.pi/2+0.6], color=\"black\", linewidth=0.3) # z axis\n",
    "ax.plot([0,0],[0,np.pi/2+0.6],[0,0], color=\"black\", linewidth=0.3) # y axis\n",
    "ax.plot([-np.pi/4-0.3,np.pi/4+0.3],[0,0],[0,0], color=\"black\", linewidth=0.3) # x axis\n",
    "ax.set_xlabel(\"\")\n",
    "ax.set_ylabel(\"\")\n",
    "ax.set_zlabel(\"\")\n",
    "\n",
    "\n",
    "plt.show()"
   ]
  },
  {
   "cell_type": "markdown",
   "metadata": {},
   "source": [
    "## colormap $W_U$"
   ]
  },
  {
   "cell_type": "markdown",
   "metadata": {},
   "source": [
    "\n",
    "$W(U)$ is defined for a unitary\n",
    "$$ U = \\exp(\\theta_x\\sigma_x\\otimes \\sigma_x + \\theta_y\\sigma_y\\otimes \\sigma_y + \\theta_z\\sigma_z\\otimes \\sigma_z),$$\n",
    "which can be expanded as,\n",
    "$$ U = \\sum_\\alpha u_\\alpha \\sigma_\\alpha \\otimes \\sigma_\\alpha.$$"
   ]
  },
  {
   "cell_type": "code",
   "execution_count": 5,
   "metadata": {},
   "outputs": [],
   "source": [
    "def get_u_vec(x,y,z):\n",
    "    u_vec = []\n",
    "    u_vec.append(cos(x)*cos(y)*cos(z)+1j*sin(x)*sin(y)*sin(z))\n",
    "    u_vec.append(cos(x)*sin(y)*sin(z)+1j*sin(x)*cos(y)*cos(z))\n",
    "    u_vec.append(sin(x)*cos(y)*sin(z)+1j*cos(x)*sin(y)*cos(z))\n",
    "    u_vec.append(sin(x)*sin(y)*cos(z)+1j*cos(x)*cos(y)*sin(z))\n",
    "    u_vec = np.array(u_vec)\n",
    "    return u_vec\n",
    "\n",
    "def get_same_alpha_cost(u_vec):\n",
    "    ret = 0\n",
    "    for u in u_vec:\n",
    "        ret += np.abs(u)**2\n",
    "    return ret\n",
    "\n",
    "def get_different_alpha_cost(u_vec):\n",
    "    ret = 0\n",
    "    for i in range(4):\n",
    "        for j in range(4):\n",
    "            if i!=j:\n",
    "                ret += np.abs(u_vec[i]*np.conj(u_vec[j]) - u_vec[j]*np.conj(u_vec[i]))\n",
    "                ret += np.abs(u_vec[i]*np.conj(u_vec[j]) + u_vec[j]*np.conj(u_vec[i]))\n",
    "    return ret\n"
   ]
  },
  {
   "cell_type": "markdown",
   "metadata": {},
   "source": [
    "### function for calculating $W_U$"
   ]
  },
  {
   "cell_type": "code",
   "execution_count": 6,
   "metadata": {},
   "outputs": [],
   "source": [
    "from numpy import sin, cos\n",
    "def get_WU(x,y,z):\n",
    "    u_vec = get_u_vec(x,y,z)\n",
    "    ret = 0\n",
    "    ret += get_same_alpha_cost(u_vec)\n",
    "    ret += get_different_alpha_cost(u_vec)\n",
    "    return ret                "
   ]
  },
  {
   "cell_type": "markdown",
   "metadata": {},
   "source": [
    "# Prepare data"
   ]
  },
  {
   "cell_type": "markdown",
   "metadata": {},
   "source": [
    "### get color map"
   ]
  },
  {
   "cell_type": "code",
   "execution_count": 7,
   "metadata": {},
   "outputs": [],
   "source": [
    "minn, maxx = 1, 9\n",
    "norm = matplotlib.colors.Normalize(minn, maxx)\n",
    "m = plt.cm.ScalarMappable(norm=norm, cmap='jet')\n",
    "m.set_array([])"
   ]
  },
  {
   "cell_type": "markdown",
   "metadata": {},
   "source": [
    "data for LA2A3 surface"
   ]
  },
  {
   "cell_type": "code",
   "execution_count": 8,
   "metadata": {},
   "outputs": [
    {
     "name": "stdout",
     "output_type": "stream",
     "text": [
      "8.872979148612904\n"
     ]
    }
   ],
   "source": [
    "# LA2A3 can be written as,\n",
    "# y = t, 0 < z < t\n",
    "# x = np.pi/4\n",
    "# A1A2A3 can be written as\n",
    "# and z = s where s < t\n",
    "X_la2a3 = []; Y_la2a3 = []; Z_la2a3 = []\n",
    "n_grid = 50\n",
    "for t in np.linspace(0, np.pi/4, n_grid):\n",
    "    X_la2a3.append(np.zeros(n_grid)+np.pi/4)\n",
    "    Y_la2a3.append(np.zeros(n_grid)+t)\n",
    "    Z_la2a3.append(np.linspace(0,t))\n",
    "X_la2a3 = np.array(X_la2a3); Y_la2a3 = np.array(Y_la2a3); Z_la2a3 = np.array(Z_la2a3)\n",
    "\n",
    "# fourth dimention - colormap\n",
    "# create colormap according to x-value (can use any 50x50 array)\n",
    "# change to desired fourth dimension\n",
    "fcolors_la2a3 = m.to_rgba(get_WU(X_la2a3,Y_la2a3,Z_la2a3))\n",
    "print(np.max(get_WU(X_la2a3,Y_la2a3,Z_la2a3)))"
   ]
  },
  {
   "cell_type": "markdown",
   "metadata": {},
   "source": [
    "data for OlA3"
   ]
  },
  {
   "cell_type": "code",
   "execution_count": 9,
   "metadata": {},
   "outputs": [],
   "source": [
    "# OlA3 can be written as,\n",
    "# y = t\n",
    "# t < x < pi/4\n",
    "# z = t\n",
    "\n",
    "X_ola3 = []; Y_ola3 = []; Z_ola3 = []\n",
    "n_grid = 50\n",
    "for t in np.linspace(0, np.pi/4, n_grid):\n",
    "    X_ola3.append(np.linspace(t, np.pi/4, n_grid))\n",
    "    Y_ola3.append(np.zeros(n_grid)+t)\n",
    "    Z_ola3.append(np.zeros(n_grid)+t)\n",
    "X_ola3 = np.array(X_ola3); Y_ola3 = np.array(Y_ola3); Z_ola3 = np.array(Z_ola3)\n",
    "\n",
    "# fourth dimention - colormap\n",
    "# create colormap according to x-value (can use any 50x50 array)\n",
    "# change to desired fourth dimension\n",
    "fcolors_ola3 = m.to_rgba(get_WU(X_ola3,Y_ola3,Z_ola3))\n"
   ]
  },
  {
   "cell_type": "code",
   "execution_count": 10,
   "metadata": {},
   "outputs": [],
   "source": [
    "# OA2A3 can be written as,\n",
    "# x = y = t\n",
    "# 0 < z < t\n",
    "\n",
    "X_oa2a3 = []; Y_oa2a3 = []; Z_oa2a3 = []\n",
    "n_grid = 50\n",
    "for t in np.linspace(0, np.pi/4, n_grid):\n",
    "    X_oa2a3.append(np.zeros(n_grid)+t)\n",
    "    Y_oa2a3.append(np.zeros(n_grid)+t)\n",
    "    Z_oa2a3.append(np.linspace(0,t,n_grid))\n",
    "X_oa2a3 = np.array(X_oa2a3); Y_oa2a3 = np.array(Y_oa2a3); Z_oa2a3 = np.array(Z_oa2a3)\n",
    "\n",
    "# fourth dimention - colormap\n",
    "# create colormap according to x-value (can use any 50x50 array)\n",
    "# change to desired fourth dimension\n",
    "fcolors_oa2a3 = m.to_rgba(get_WU(X_oa2a3,Y_oa2a3,Z_oa2a3))"
   ]
  },
  {
   "cell_type": "code",
   "execution_count": 11,
   "metadata": {},
   "outputs": [],
   "source": [
    "# OLA2 can be written as:\n",
    "# z = 0\n",
    "# x = t\n",
    "# 0<y<t\n",
    "# OA2A3 can be written as,\n",
    "# x = y = t\n",
    "# 0 < z < t\n",
    "\n",
    "X_ola2 = []; Y_ola2 = []; Z_ola2 = []\n",
    "n_grid = 50\n",
    "for t in np.linspace(0, np.pi/4, n_grid):\n",
    "    X_ola2.append(np.zeros(n_grid)+t)\n",
    "    Y_ola2.append(np.linspace(0,t,n_grid))\n",
    "    Z_ola2.append(np.zeros(n_grid))\n",
    "X_ola2 = np.array(X_ola2); Y_ola2 = np.array(Y_ola2); Z_ola2 = np.array(Z_ola2)\n",
    "\n",
    "# fourth dimention - colormap\n",
    "# create colormap according to x-value (can use any 50x50 array)\n",
    "# change to desired fourth dimension\n",
    "fcolors_ola2 = m.to_rgba(get_WU(X_ola2,Y_ola2,Z_ola2))"
   ]
  },
  {
   "cell_type": "markdown",
   "metadata": {},
   "source": [
    "# Plot"
   ]
  },
  {
   "cell_type": "code",
   "execution_count": 12,
   "metadata": {},
   "outputs": [
    {
     "data": {
      "image/png": "[encoded data removed]",
      "text/plain": [
       "<Figure size 432x288 with 2 Axes>"
      ]
     },
     "metadata": {
      "needs_background": "light"
     },
     "output_type": "display_data"
    }
   ],
   "source": [
    "\n",
    "# plot\n",
    "fig = plt.figure()\n",
    "ax = fig.add_subplot(111, projection=\"3d\")\n",
    "ax.w_xaxis.set_pane_color((0., 0., 0., 0.))\n",
    "ax.w_yaxis.set_pane_color((0., 0., 0., 0.))\n",
    "ax.w_zaxis.set_pane_color((0., 0., 0., 0.))\n",
    "ax.w_xaxis.line.set_color(\"grey\")\n",
    "ax.w_yaxis.line.set_color(\"grey\")\n",
    "ax.w_zaxis.line.set_color(\"grey\")\n",
    "ax.set_xticks([]) \n",
    "ax.set_yticks([]) \n",
    "ax.set_zticks([])\n",
    "plt.axis('off')\n",
    "ax.set_xlim(np.pi/4+0.1, 0)\n",
    "ax.set_ylim(np.pi/4+0.1, 0)\n",
    "ax.set_zlim(0,np.pi/4+0.2)\n",
    "ax.view_init(elev=46., azim=-118)\n",
    "\n",
    "# draw chamber\n",
    "ax.plot(*[[O[i], L[i]] for i in range(3)], color=\"black\") #OL\n",
    "ax.plot(*[[O[i], A2[i]] for i in range(3)], color=\"black\") #OA2\n",
    "ax.plot(*[[O[i], A3[i]] for i in range(3)], color=\"black\") #OA3\n",
    "ax.plot(*[[L[i], A2[i]] for i in range(3)], color=\"black\") #LA2\n",
    "ax.plot(*[[L[i], A3[i]] for i in range(3)], color=\"black\") #LA3\n",
    "ax.plot(*[[A2[i], A3[i]] for i in range(3)], color=\"black\") #A2A3\n",
    "\n",
    "ax.plot([0,0],[0,0],[0,np.pi+0.6], color=\"black\", linewidth=0.3) # z axis\n",
    "ax.plot([0,0],[0,np.pi/2+0.6],[0,0], color=\"black\", linewidth=0.3) # y axis\n",
    "ax.plot([0,np.pi/4+0.3],[0,0],[0,0], color=\"black\", linewidth=0.3) # x axis\n",
    "\n",
    "# plot plane\n",
    "# #LA2A3\n",
    "surf = ax.plot_surface(X_la2a3,Y_la2a3,Z_la2a3, rstride=1, cstride=1, \\\n",
    "                       facecolors=fcolors_la2a3, vmin=minn, vmax=maxx, shade=True)\n",
    "\n",
    "# OLA3\n",
    "surf = ax.plot_surface(X_ola3,Y_ola3,Z_ola3, rstride=1, cstride=1, \\\n",
    "                       facecolors=fcolors_ola3, vmin=minn, vmax=maxx, shade=True)\n",
    "\n",
    "# OA2A3\n",
    "surf = ax.plot_surface(X_oa2a3,Y_oa2a3,Z_oa2a3, rstride=1, cstride=1, \\\n",
    "                       facecolors=fcolors_oa2a3, vmin=minn, vmax=maxx, shade=True)\n",
    "\n",
    "# OLA2\n",
    "surf = ax.plot_surface(X_ola2,Y_ola2,Z_ola2, rstride=1, cstride=1, \\\n",
    "                       facecolors=fcolors_ola2, vmin=minn, vmax=maxx, shade=False)\n",
    "\n",
    "ax.set_xlabel(\"\")\n",
    "ax.set_ylabel(\"\")\n",
    "ax.set_zlabel(\"\")\n",
    "\n",
    "cax = fig.add_axes([0.3, 0.35, 0.03, 0.4])\n",
    "cbar = plt.colorbar(m, cax=cax)\n",
    "\n",
    "plt.show()"
   ]
  }
 ],
 "metadata": {
  "kernelspec": {
   "display_name": "Python 3",
   "language": "python",
   "name": "python3"
  },
  "language_info": {
   "codemirror_mode": {
    "name": "ipython",
    "version": 3
   },
   "file_extension": ".py",
   "mimetype": "text/x-python",
   "name": "python",
   "nbconvert_exporter": "python",
   "pygments_lexer": "ipython3",
   "version": "3.7.3"
  }
 },
 "nbformat": 4,
 "nbformat_minor": 4
}
